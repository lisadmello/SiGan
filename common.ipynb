{
 "cells": [
  {
   "cell_type": "code",
   "execution_count": null,
   "metadata": {
    "collapsed": true
   },
   "outputs": [],
   "source": [
    "# To avoid errors during importing librosa.\n",
    "import matplotlib\n",
    "matplotlib.use('Agg')\n",
    "\n",
    "import numpy as np\n",
    "import librosa as lbr\n",
    "import keras.backend as K\n",
    "\n",
    "GENRES = ['dog', 'rooster', 'pig', 'cow', 'frog', 'cat', 'hen',\n",
    "        'insects', 'sheep', 'crow']\n",
    "WINDOW_SIZE = 2048\n",
    "WINDOW_STRIDE = WINDOW_SIZE // 2\n",
    "N_MELS = 128\n",
    "MEL_KWARGS = {\n",
    "    'n_fft': WINDOW_SIZE,\n",
    "    'hop_length': WINDOW_STRIDE,\n",
    "    'n_mels': N_MELS\n",
    "}\n",
    "\n",
    "def get_layer_output_function(model, layer_name):\n",
    "    input = model.get_layer('input').input\n",
    "    output = model.get_layer(layer_name).output\n",
    "    f = K.function([input, K.learning_phase()], output)\n",
    "    return lambda x: f([x, 0]) # learning_phase = 0 means test\n",
    "\n",
    "def load_track(filename, enforce_shape=None):\n",
    "    new_input, sample_rate = lbr.load(filename, mono=True, duration=5)\n",
    "    features = lbr.feature.melspectrogram(new_input, **MEL_KWARGS).T\n",
    "\n",
    "    if enforce_shape is not None:\n",
    "        if features.shape[0] < enforce_shape[0]:\n",
    "            delta_shape = (enforce_shape[0] - features.shape[0],\n",
    "                    enforce_shape[1])\n",
    "            features = np.append(features, np.zeros(delta_shape), axis=0)\n",
    "        elif features.shape[0] > enforce_shape[0]:\n",
    "            features = features[: enforce_shape[0], :]\n",
    "\n",
    "    features[features == 0] = 1e-6\n",
    "    return (np.log(features), float(new_input.shape[0]) / sample_rate)\n"
   ]
  }
 ],
 "metadata": {
  "kernelspec": {
   "display_name": "Python 3",
   "language": "python",
   "name": "python3"
  },
  "language_info": {
   "codemirror_mode": {
    "name": "ipython",
    "version": 3
   },
   "file_extension": ".py",
   "mimetype": "text/x-python",
   "name": "python",
   "nbconvert_exporter": "python",
   "pygments_lexer": "ipython3",
   "version": "3.6.1"
  }
 },
 "nbformat": 4,
 "nbformat_minor": 2
}
